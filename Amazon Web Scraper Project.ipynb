{
 "cells": [
  {
   "cell_type": "code",
   "execution_count": 4,
   "id": "aae9bbfd",
   "metadata": {},
   "outputs": [],
   "source": [
    "# Importing libraries\n",
    "\n",
    "from bs4 import BeautifulSoup\n",
    "import requests\n",
    "import smtplib  # This library is used to send emails to yourself\n",
    "import time\n",
    "import datetime"
   ]
  },
  {
   "cell_type": "code",
   "execution_count": 14,
   "id": "5ac80dc4",
   "metadata": {},
   "outputs": [
    {
     "name": "stdout",
     "output_type": "stream",
     "text": [
      "Title: \n",
      "            Atomic Habits: An Easy & Proven Way to Build Good Habits & Break Bad Ones\n",
      "           \n",
      "Price: \n",
      "                   $13.49\n",
      "                  \n",
      "Rating: \n",
      "                  4.8 out of 5 stars\n",
      "                 \n"
     ]
    }
   ],
   "source": [
    "# Connect to website\n",
    "\n",
    "URL = 'https://www.amazon.com/Atomic-Habits-Proven-Build-Break/dp/0735211299/ref=zg_sccl_2/134-9203038-3988203?pd_rd_w=PAFpr&content-id=amzn1.sym.193afb92-0c19-4833-86f8-850b5ba40291&pf_rd_p=193afb92-0c19-4833-86f8-850b5ba40291&pf_rd_r=TCYY472KDN3D1YPKPPAW&pd_rd_wg=qcApe&pd_rd_r=88901f07-4409-4361-bac5-65e5103291dc&pd_rd_i=0735211299&psc=1'\n",
    "\n",
    "headers = {\"User-Agent\": \"Mozilla/5.0 (Windows NT 10.0; Win64; x64) AppleWebKit/537.36 (KHTML, like Gecko) Chrome/112.0.0.0 Safari/537.36 Edg/112.0.1722.64\", \"Accept-Encoding\":\"gzip, deflate\", \"Accept\":\"text/html,application/xhtml+xml,application/xml;q=0.9,*/*;q=0.8\", \"DNT\":\"1\",\"Connection\":\"close\", \"Upgrade-Insecure-Requests\":\"1\"}\n",
    "\n",
    "page = requests.get(URL, headers = headers)\n",
    "\n",
    "soup1 = BeautifulSoup(page.content, 'html.parser')\n",
    "\n",
    "soup2 = BeautifulSoup(soup1.prettify(), 'html.parser')\n",
    "\n",
    "title = soup2.find(id = 'productTitle').get_text()\n",
    "\n",
    "price = soup2.find('span', {'class':\"a-size-base a-color-price a-color-price\"}).get_text()\n",
    "\n",
    "rating = soup2.find('span', {'class': \"a-icon-alt\"}).get_text()\n",
    "\n",
    "print('Title:', title)\n",
    "\n",
    "print('Price:', price)\n",
    "\n",
    "print('Rating:', rating)"
   ]
  },
  {
   "cell_type": "code",
   "execution_count": 15,
   "id": "a9a39da2",
   "metadata": {},
   "outputs": [
    {
     "name": "stdout",
     "output_type": "stream",
     "text": [
      "Atomic Habits: An Easy & Proven Way to Build Good Habits & Break Bad Ones\n",
      "13.49\n",
      "4.8\n"
     ]
    }
   ],
   "source": [
    "# strip() is used to remove any extra spaces before (or after) the data.\n",
    "\n",
    "price = price.strip()[1:]\n",
    "title = title.strip()\n",
    "rating = rating.strip()[0:3]\n",
    "\n",
    "print(title)\n",
    "print(price)\n",
    "print(rating)"
   ]
  },
  {
   "cell_type": "code",
   "execution_count": 16,
   "id": "88f9aa92",
   "metadata": {},
   "outputs": [
    {
     "name": "stdout",
     "output_type": "stream",
     "text": [
      "2023-05-03\n"
     ]
    }
   ],
   "source": [
    "import datetime\n",
    "\n",
    "today = datetime.date.today()\n",
    "\n",
    "print(today)"
   ]
  },
  {
   "cell_type": "code",
   "execution_count": 17,
   "id": "29183b5b",
   "metadata": {},
   "outputs": [],
   "source": [
    "import csv\n",
    "\n",
    "header = ['Title', 'Price', 'Date', 'Rating']\n",
    "data = [title, price, today, rating]\n",
    "\n",
    "# 'w' means write.\n",
    "\n",
    "# Don't run the following after the intial run.\n",
    "# That's why its commented out so you don't run \n",
    "# it even accidentally (after the 1st run).\n",
    "\n",
    "# with open('AmazonWebScraperBookDataset.csv', 'w', newline = '', encoding = 'UTF8') as f:           \n",
    "#    writer = csv.writer(f)\n",
    "#    writer.writerow(header)\n",
    "#    writer.writerow(data)"
   ]
  },
  {
   "cell_type": "code",
   "execution_count": 21,
   "id": "7c6f4977",
   "metadata": {},
   "outputs": [],
   "source": [
    "# Appending the data to the csv. ('a+'' mean appending)\n",
    "\n",
    "with open('AmazonWebScraperBookDataset.csv', 'a+', newline = '', encoding = 'UTF8') as f:\n",
    "    writer = csv.writer(f)\n",
    "    writer.writerow(data)"
   ]
  },
  {
   "cell_type": "code",
   "execution_count": null,
   "id": "f6636ea1",
   "metadata": {},
   "outputs": [],
   "source": [
    "import pandas as pd\n",
    "\n",
    "df = pd.read_csv(r'C:\\Users\\Mohammad Anas\\AmazonWebScraperDataset.csv')\n",
    "\n",
    "print(df)"
   ]
  },
  {
   "cell_type": "code",
   "execution_count": 22,
   "id": "93a0d34b",
   "metadata": {},
   "outputs": [],
   "source": [
    "\n",
    "\n",
    "def check_price():\n",
    "    URL = 'https://www.amazon.com/Atomic-Habits-Proven-Build-Break/dp/0735211299/ref=zg_sccl_2/134-9203038-3988203?pd_rd_w=PAFpr&content-id=amzn1.sym.193afb92-0c19-4833-86f8-850b5ba40291&pf_rd_p=193afb92-0c19-4833-86f8-850b5ba40291&pf_rd_r=TCYY472KDN3D1YPKPPAW&pd_rd_wg=qcApe&pd_rd_r=88901f07-4409-4361-bac5-65e5103291dc&pd_rd_i=0735211299&psc=1'\n",
    "\n",
    "    headers = {\"User-Agent\": \"Mozilla/5.0 (Windows NT 10.0; Win64; x64) AppleWebKit/537.36 (KHTML, like Gecko) Chrome/112.0.0.0 Safari/537.36 Edg/112.0.1722.64\", \"Accept-Encoding\":\"gzip, deflate\", \"Accept\":\"text/html,application/xhtml+xml,application/xml;q=0.9,*/*;q=0.8\", \"DNT\":\"1\",\"Connection\":\"close\", \"Upgrade-Insecure-Requests\":\"1\"}\n",
    "\n",
    "    page = requests.get(URL, headers = headers)\n",
    "\n",
    "    soup1 = BeautifulSoup(page.content, 'html.parser')\n",
    "\n",
    "    soup2 = BeautifulSoup(soup1.prettify(), 'html.parser')\n",
    "\n",
    "    title = soup2.find(id = 'productTitle').get_text()\n",
    "\n",
    "    price = soup2.find('span', {'class':\"a-size-base a-color-price a-color-price\"}).get_text()\n",
    "\n",
    "    rating = soup2.find('span', {'class': \"a-icon-alt\"}).get_text()\n",
    "\n",
    "    price = price.strip()[1:]\n",
    "    title = title.strip()\n",
    "    rating = rating.strip()[0:3]\n",
    "\n",
    "    import datetime\n",
    "\n",
    "    today = datetime.date.today()\n",
    "\n",
    "    import csv\n",
    "\n",
    "    header = ['Title', 'Price', 'Date', 'Rating']\n",
    "    data = [title, price, today, rating]\n",
    "\n",
    "    with open('AmazonWebScraperBookDataset.csv', 'a+', newline = '', encoding = 'UTF8') as f:\n",
    "        writer = csv.writer(f)\n",
    "        writer.writerow(data)\n",
    "    "
   ]
  },
  {
   "cell_type": "code",
   "execution_count": null,
   "id": "a07c5fd9",
   "metadata": {},
   "outputs": [],
   "source": [
    "while (True):\n",
    "    check_price()\n",
    "    time.sleep(86400)"
   ]
  },
  {
   "cell_type": "code",
   "execution_count": 24,
   "id": "8fd6bc1d",
   "metadata": {
    "scrolled": false
   },
   "outputs": [
    {
     "name": "stdout",
     "output_type": "stream",
     "text": [
      "                                               Title  Price        Date  \\\n",
      "0  Atomic Habits: An Easy & Proven Way to Build G...  13.49  2023-05-03   \n",
      "1  Atomic Habits: An Easy & Proven Way to Build G...  13.49  2023-05-03   \n",
      "2  Atomic Habits: An Easy & Proven Way to Build G...  13.49  2023-05-03   \n",
      "3  Atomic Habits: An Easy & Proven Way to Build G...  13.49  2023-05-03   \n",
      "4  Atomic Habits: An Easy & Proven Way to Build G...  13.49  2023-05-03   \n",
      "\n",
      "   Rating  \n",
      "0     4.8  \n",
      "1     4.8  \n",
      "2     4.8  \n",
      "3     4.8  \n",
      "4     4.8  \n"
     ]
    }
   ],
   "source": [
    "import pandas as pd\n",
    "\n",
    "df = pd.read_csv(r'C:\\Users\\Mohammad Anas\\AmazonWebScraperBookDataset.csv')\n",
    "\n",
    "print(df)"
   ]
  },
  {
   "cell_type": "code",
   "execution_count": null,
   "id": "95de82ee",
   "metadata": {},
   "outputs": [],
   "source": []
  }
 ],
 "metadata": {
  "kernelspec": {
   "display_name": "Python 3 (ipykernel)",
   "language": "python",
   "name": "python3"
  },
  "language_info": {
   "codemirror_mode": {
    "name": "ipython",
    "version": 3
   },
   "file_extension": ".py",
   "mimetype": "text/x-python",
   "name": "python",
   "nbconvert_exporter": "python",
   "pygments_lexer": "ipython3",
   "version": "3.10.9"
  }
 },
 "nbformat": 4,
 "nbformat_minor": 5
}
