{
 "cells": [
  {
   "cell_type": "markdown",
   "id": "7887fada",
   "metadata": {},
   "source": [
    "# BMI Calculator\n",
    "\n",
    "https://mercer-health.com/services/weight-management-center/bmi-calculator#:~:text=Body%20Mass%20Index%2C%20or%20BMI,inches%20x%20height%20in%20inches"
   ]
  },
  {
   "cell_type": "code",
   "execution_count": 1,
   "id": "11b762dd",
   "metadata": {},
   "outputs": [],
   "source": [
    "# BMI = (weight in pounds x 703) / (height in inches x height in inches)"
   ]
  },
  {
   "cell_type": "code",
   "execution_count": 24,
   "id": "62c794c1",
   "metadata": {
    "collapsed": true
   },
   "outputs": [
    {
     "data": {
      "text/plain": [
       "'\\nUnder 18.5\\tUnderweight\\tMinimal\\n18.5 - 24.9\\tNormal Weight\\tMinimal\\n25 - 29.9\\tOverweight\\tIncreased\\n30 - 34.9\\tObese\\tHigh\\n35 - 39.9\\tSeverely Obese\\tVery High\\n40 and over\\tMorbidly Obese\\tExtremely High\\n'"
      ]
     },
     "execution_count": 24,
     "metadata": {},
     "output_type": "execute_result"
    }
   ],
   "source": [
    "\"\"\"\n",
    "Under 18.5\tUnderweight\tMinimal\n",
    "18.5 - 24.9\tNormal Weight\tMinimal\n",
    "25 - 29.9\tOverweight\tIncreased\n",
    "30 - 34.9\tObese\tHigh\n",
    "35 - 39.9\tSeverely Obese\tVery High\n",
    "40 and over\tMorbidly Obese\tExtremely High\n",
    "\"\"\""
   ]
  },
  {
   "cell_type": "code",
   "execution_count": 30,
   "id": "69fc25f3",
   "metadata": {},
   "outputs": [
    {
     "name": "stdout",
     "output_type": "stream",
     "text": [
      "Enter your name: muhammad anas\n",
      "Enter your weight in pounds (must be greater than 0): 0\n",
      "Weight must be greater than 0. Please try again.\n",
      "Enter your weight in pounds (must be greater than 0): -170\n",
      "Weight must be greater than 0. Please try again.\n",
      "Enter your weight in pounds (must be greater than 0): qqdcnoi\n",
      "Weight must be a number. Please try again.\n",
      "Enter your weight in pounds (must be greater than 0): --!@#\n",
      "Weight must be a number. Please try again.\n",
      "Enter your weight in pounds (must be greater than 0): '170'\n",
      "Weight must be a number. Please try again.\n",
      "Enter your weight in pounds (must be greater than 0): 170.77\n",
      "Enter your height in inches (must be greater than 0): 0\n",
      "Height must be greater than 0. Please try again.\n",
      "Enter your height in inches (must be greater than 0): -70\n",
      "Height must be greater than 0. Please try again.\n",
      "Enter your height in inches (must be greater than 0): qwerty\n",
      "Height must be a number. Please try again.\n",
      "Enter your height in inches (must be greater than 0): +()*&^\n",
      "Height must be a number. Please try again.\n",
      "Enter your height in inches (must be greater than 0): \"70\n",
      "Height must be a number. Please try again.\n",
      "Enter your height in inches (must be greater than 0): 70\n",
      "\n",
      "BMI = 24.500267346938777\n",
      "Muhammad Anas , you are normal weight.\n"
     ]
    }
   ],
   "source": [
    "name = input(\"Enter your name: \")\n",
    "formatted_name = name.title()\n",
    "\n",
    "while True:\n",
    "    try:\n",
    "        weight = float(input(\"Enter your weight in pounds (must be greater than 0): \"))\n",
    "        if weight <= 0:\n",
    "            print(\"Weight must be greater than 0. Please try again.\")\n",
    "            continue\n",
    "        break\n",
    "    except ValueError:\n",
    "        print(\"Weight must be a number. Please try again.\")\n",
    "\n",
    "while True:\n",
    "    try:\n",
    "        height = float(input(\"Enter your height in inches (must be greater than 0): \"))\n",
    "        if height <= 0:\n",
    "            print(\"Height must be greater than 0. Please try again.\")\n",
    "            continue\n",
    "        break\n",
    "    except ValueError:\n",
    "        print(\"Height must be a number. Please try again.\")\n",
    "\n",
    "BMI = (weight * 703) / (height * height)\n",
    "\n",
    "print(\"\\nBMI =\", BMI)\n",
    "\n",
    "if BMI>0:\n",
    "    if (BMI < 18.5):\n",
    "        print(formatted_name, \", you are underweight.\")\n",
    "    elif (BMI <= 24.9):\n",
    "        print(formatted_name, \", you are normal weight.\")\n",
    "    elif (BMI <= 29.9):\n",
    "        print(formatted_name, \", you are overweight.\")\n",
    "    elif (BMI <= 34.9):\n",
    "        print(formatted_name, \", you are obese.\")\n",
    "    elif (BMI <= 39.9):\n",
    "        print(formatted_name, \", you are severely obese.\")\n",
    "    else:\n",
    "        print(formatted_name, \", you are morbidly obese.\")\n",
    "else:\n",
    "    print(\"Enter valid input!\")"
   ]
  },
  {
   "cell_type": "code",
   "execution_count": null,
   "id": "09b280d6",
   "metadata": {},
   "outputs": [],
   "source": []
  }
 ],
 "metadata": {
  "kernelspec": {
   "display_name": "Python 3 (ipykernel)",
   "language": "python",
   "name": "python3"
  },
  "language_info": {
   "codemirror_mode": {
    "name": "ipython",
    "version": 3
   },
   "file_extension": ".py",
   "mimetype": "text/x-python",
   "name": "python",
   "nbconvert_exporter": "python",
   "pygments_lexer": "ipython3",
   "version": "3.10.9"
  }
 },
 "nbformat": 4,
 "nbformat_minor": 5
}
